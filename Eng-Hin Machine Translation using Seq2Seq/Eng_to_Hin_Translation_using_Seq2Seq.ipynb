{
  "nbformat": 4,
  "nbformat_minor": 0,
  "metadata": {
    "colab": {
      "name": "Eng_to_Hin_Translation_using_Deep_NLP.ipynb",
      "provenance": []
    },
    "kernelspec": {
      "name": "python3",
      "display_name": "Python 3"
    },
    "accelerator": "GPU"
  },
  "cells": [
    {
      "cell_type": "code",
      "metadata": {
        "id": "v6LQenPA16kc",
        "colab_type": "code",
        "colab": {}
      },
      "source": [
        "# Import necessary libraries\n",
        "\n",
        "from __future__ import unicode_literals, print_function, division\n",
        "from io import open\n",
        "import unicodedata\n",
        "import string\n",
        "import re\n",
        "import random\n",
        "\n",
        "import torch\n",
        "import torch.nn as nn\n",
        "from torch import optim\n",
        "import torch.nn.functional as F\n",
        "\n",
        "device = torch.device(\"cuda\" if torch.cuda.is_available() else \"cpu\")"
      ],
      "execution_count": 0,
      "outputs": []
    },
    {
      "cell_type": "markdown",
      "metadata": {
        "id": "ma8FN5DtXlhf",
        "colab_type": "text"
      },
      "source": [
        "## Preprocessing of the Dataset"
      ]
    },
    {
      "cell_type": "code",
      "metadata": {
        "id": "OpfFPH1_1-l6",
        "colab_type": "code",
        "colab": {}
      },
      "source": [
        "# Class to store the vocabulary of a language\n",
        "\n",
        "SOS_token = 0\n",
        "EOS_token = 1\n",
        "\n",
        "\n",
        "class Lang:\n",
        "    def __init__(self, name):\n",
        "        self.name = name\n",
        "        self.word2index = {}\n",
        "        self.word2count = {}\n",
        "        self.index2word = {0: \"SOS\", 1: \"EOS\"}\n",
        "        self.n_words = 2  # Count SOS and EOS\n",
        "\n",
        "    def addSentence(self, sentence):\n",
        "        for word in sentence.split(' '):\n",
        "            self.addWord(word)\n",
        "\n",
        "    def addWord(self, word):\n",
        "        if word not in self.word2index:\n",
        "            self.word2index[word] = self.n_words\n",
        "            self.word2count[word] = 1\n",
        "            self.index2word[self.n_words] = word\n",
        "            self.n_words += 1\n",
        "        else:\n",
        "            self.word2count[word] += 1"
      ],
      "execution_count": 0,
      "outputs": []
    },
    {
      "cell_type": "code",
      "metadata": {
        "id": "l4iRSMm19uWT",
        "colab_type": "code",
        "colab": {}
      },
      "source": [
        "# Utility functions to normalize the words\n",
        "\n",
        "def unicodeToAscii(s):\n",
        "    return ''.join(\n",
        "        c for c in unicodedata.normalize('NFD', s)\n",
        "        if unicodedata.category(c) != 'Mn'\n",
        "    )\n",
        "\n",
        "def normalizeString(s):\n",
        "    s = unicodeToAscii(s.lower().strip())\n",
        "    s = re.sub(r\"([.!?।,])\", r\" \\1\", s)\n",
        "    return s"
      ],
      "execution_count": 0,
      "outputs": []
    },
    {
      "cell_type": "code",
      "metadata": {
        "id": "kKR-uzK92Pwq",
        "colab_type": "code",
        "colab": {}
      },
      "source": [
        "# Load the English-to-Hindi sentence pairs from downloaded database [obtained from http://www.manythings.org/anki/]\n",
        "\n",
        "def readLangs(lang1, lang2, reverse=False):\n",
        "    print(\"Reading lines...\")\n",
        "\n",
        "    # Read the file and split into lines\n",
        "    lines = open('%s-%s.txt' % (lang1, lang2), encoding='utf-8').\\\n",
        "        read().strip().split('\\n')\n",
        "\n",
        "    # Split every line into pairs and normalize\n",
        "    pairs = [[normalizeString(s) for s in l.split('\\t')[0:2]] for l in lines]\n",
        "\n",
        "    # Reverse pairs, make Lang instances\n",
        "    if reverse:\n",
        "        pairs = [list(reversed(p)) for p in pairs]\n",
        "        input_lang = Lang(lang2)\n",
        "        output_lang = Lang(lang1)\n",
        "    else:\n",
        "        input_lang = Lang(lang1)\n",
        "        output_lang = Lang(lang2)\n",
        "\n",
        "    return input_lang, output_lang, pairs"
      ],
      "execution_count": 0,
      "outputs": []
    },
    {
      "cell_type": "code",
      "metadata": {
        "id": "dCSBsjOr2wGk",
        "colab_type": "code",
        "outputId": "6a78a249-b145-494c-9c2f-221fd03e37e2",
        "colab": {
          "base_uri": "https://localhost:8080/",
          "height": 134
        }
      },
      "source": [
        "# Preprocess the sentence pairs to be used for training\n",
        "def prepareData(lang1, lang2, reverse=False):\n",
        "    input_lang, output_lang, pairs = readLangs(lang1, lang2, reverse)\n",
        "    print(\"Read %s sentence pairs\" % len(pairs))\n",
        "    print(\"Counting words...\")\n",
        "    for pair in pairs:\n",
        "        input_lang.addSentence(pair[0])\n",
        "        output_lang.addSentence(pair[1])\n",
        "    print(\"Counted words:\")\n",
        "    print(input_lang.name, input_lang.n_words)\n",
        "    print(output_lang.name, output_lang.n_words)\n",
        "    return input_lang, output_lang, pairs\n",
        "\n",
        "\n",
        "input_lang, output_lang, pairs = prepareData('eng', 'hin', False)\n",
        "print(random.choice(pairs))"
      ],
      "execution_count": 6,
      "outputs": [
        {
          "output_type": "stream",
          "text": [
            "Reading lines...\n",
            "Read 2778 sentence pairs\n",
            "Counting words...\n",
            "Counted words:\n",
            "eng 2403\n",
            "hin 2624\n",
            "['he decided not to go to the party .', 'उसन पारटी म न जान का फसला किया ।']\n"
          ],
          "name": "stdout"
        }
      ]
    },
    {
      "cell_type": "code",
      "metadata": {
        "id": "zFNNapIP-2JT",
        "colab_type": "code",
        "outputId": "ee71c6a3-ecf2-440c-bfd7-ea5c2fb3d4d3",
        "colab": {
          "base_uri": "https://localhost:8080/",
          "height": 34
        }
      },
      "source": [
        "# Store the maximum length of a sentence (Hindi or English) present in the dataset\n",
        "\n",
        "MAX_LENGTH = 0\n",
        "for pair in pairs:\n",
        "    if len(pair[0].split(\" \")) + 1 > MAX_LENGTH:\n",
        "        MAX_LENGTH = len(pair[0].split(\" \")) + 1\n",
        "    if len(pair[1].split(\" \")) + 1 > MAX_LENGTH:\n",
        "        MAX_LENGTH = len(pair[1].split(\" \")) + 1\n",
        "\n",
        "MAX_LENGTH"
      ],
      "execution_count": 7,
      "outputs": [
        {
          "output_type": "execute_result",
          "data": {
            "text/plain": [
              "29"
            ]
          },
          "metadata": {
            "tags": []
          },
          "execution_count": 7
        }
      ]
    },
    {
      "cell_type": "markdown",
      "metadata": {
        "id": "3eZJaeXiXfIQ",
        "colab_type": "text"
      },
      "source": [
        "## Define the Model Architecture"
      ]
    },
    {
      "cell_type": "code",
      "metadata": {
        "id": "Mu9oldVu3ipj",
        "colab_type": "code",
        "colab": {}
      },
      "source": [
        "# Encoder using an embedding & GRU\n",
        "\n",
        "class EncoderRNN(nn.Module):\n",
        "    def __init__(self, input_size, hidden_size):\n",
        "        super(EncoderRNN, self).__init__()\n",
        "        self.hidden_size = hidden_size\n",
        "\n",
        "        self.embedding = nn.Embedding(input_size, hidden_size)\n",
        "        self.gru = nn.GRU(hidden_size, hidden_size)\n",
        "\n",
        "    def forward(self, input, hidden):\n",
        "        embedded = self.embedding(input).view(1, 1, -1)\n",
        "        output = embedded\n",
        "        output, hidden = self.gru(output, hidden)\n",
        "        return output, hidden\n",
        "\n",
        "    def initHidden(self):\n",
        "        return torch.zeros(1, 1, self.hidden_size, device=device)"
      ],
      "execution_count": 0,
      "outputs": []
    },
    {
      "cell_type": "code",
      "metadata": {
        "id": "F6CCm26f5lbz",
        "colab_type": "code",
        "colab": {}
      },
      "source": [
        "# Simple decoder using an embeding & GRU\n",
        "\n",
        "class DecoderRNN(nn.Module):\n",
        "    def __init__(self, hidden_size, output_size):\n",
        "        super(DecoderRNN, self).__init__()\n",
        "        self.hidden_size = hidden_size\n",
        "\n",
        "        self.embedding = nn.Embedding(output_size, hidden_size)\n",
        "        self.gru = nn.GRU(hidden_size, hidden_size)\n",
        "        self.out = nn.Linear(hidden_size, output_size)\n",
        "        self.softmax = nn.LogSoftmax(dim=1)\n",
        "\n",
        "    def forward(self, input, hidden):\n",
        "        output = self.embedding(input).view(1, 1, -1)\n",
        "        output = F.relu(output)\n",
        "        output, hidden = self.gru(output, hidden)\n",
        "        output = self.softmax(self.out(output[0]))\n",
        "        return output, hidden\n",
        "\n",
        "    def initHidden(self):\n",
        "        return torch.zeros(1, 1, self.hidden_size, device=device)"
      ],
      "execution_count": 0,
      "outputs": []
    },
    {
      "cell_type": "code",
      "metadata": {
        "id": "wuvvXDqu553y",
        "colab_type": "code",
        "colab": {}
      },
      "source": [
        "# Decoder using attention mechanism\n",
        "\n",
        "class AttnDecoderRNN(nn.Module):\n",
        "    def __init__(self, hidden_size, output_size, dropout_p=0.1, max_length=MAX_LENGTH):\n",
        "        super(AttnDecoderRNN, self).__init__()\n",
        "        self.hidden_size = hidden_size\n",
        "        self.output_size = output_size\n",
        "        self.dropout_p = dropout_p\n",
        "        self.max_length = max_length\n",
        "\n",
        "        self.embedding = nn.Embedding(self.output_size, self.hidden_size)\n",
        "        self.attn = nn.Linear(self.hidden_size * 2, self.max_length)\n",
        "        self.attn_combine = nn.Linear(self.hidden_size * 2, self.hidden_size)\n",
        "        self.dropout = nn.Dropout(self.dropout_p)\n",
        "        self.gru = nn.GRU(self.hidden_size, self.hidden_size)\n",
        "        self.out = nn.Linear(self.hidden_size, self.output_size)\n",
        "\n",
        "    def forward(self, input, hidden, encoder_outputs):\n",
        "        embedded = self.embedding(input).view(1, 1, -1)\n",
        "        embedded = self.dropout(embedded)\n",
        "\n",
        "        attn_weights = F.softmax(self.attn(torch.cat((embedded[0], hidden[0]), 1)), dim=1)\n",
        "        attn_applied = torch.bmm(attn_weights.unsqueeze(0), encoder_outputs.unsqueeze(0))\n",
        "\n",
        "        output = torch.cat((embedded[0], attn_applied[0]), 1)\n",
        "        output = self.attn_combine(output).unsqueeze(0)\n",
        "\n",
        "        output = F.relu(output)\n",
        "        output, hidden = self.gru(output, hidden)\n",
        "\n",
        "        output = F.log_softmax(self.out(output[0]), dim=1)\n",
        "        return output, hidden, attn_weights\n",
        "\n",
        "    def initHidden(self):\n",
        "        return torch.zeros(1, 1, self.hidden_size, device=device)"
      ],
      "execution_count": 0,
      "outputs": []
    },
    {
      "cell_type": "markdown",
      "metadata": {
        "id": "4Php0vKqXXsd",
        "colab_type": "text"
      },
      "source": [
        "## Training the Sequence to Sequence Machine Translation Model"
      ]
    },
    {
      "cell_type": "code",
      "metadata": {
        "id": "cNBkuHxP0qtL",
        "colab_type": "code",
        "colab": {}
      },
      "source": [
        "# Utility functions to be used during training\n",
        "\n",
        "def indexesFromSentence(lang, sentence):\n",
        "    return [lang.word2index[word] for word in sentence.split(' ')]\n",
        "\n",
        "\n",
        "def tensorFromSentence(lang, sentence):\n",
        "    indexes = indexesFromSentence(lang, sentence)\n",
        "    indexes.append(EOS_token)\n",
        "    return torch.tensor(indexes, dtype=torch.long, device=device).view(-1, 1)\n",
        "\n",
        "\n",
        "def tensorsFromPair(pair):\n",
        "    input_tensor = tensorFromSentence(input_lang, pair[0])\n",
        "    target_tensor = tensorFromSentence(output_lang, pair[1])\n",
        "    return (input_tensor, target_tensor)"
      ],
      "execution_count": 0,
      "outputs": []
    },
    {
      "cell_type": "code",
      "metadata": {
        "id": "gG294Q1q0qqW",
        "colab_type": "code",
        "colab": {}
      },
      "source": [
        "# Use 'Teacher Forcing' mechanism to a desired degree for a single iteration of training\n",
        "\n",
        "teacher_forcing_ratio = 0.5\n",
        "\n",
        "\n",
        "def train(input_tensor, target_tensor, encoder, decoder, encoder_optimizer, decoder_optimizer, criterion, max_length=MAX_LENGTH):\n",
        "    encoder_hidden = encoder.initHidden()\n",
        "\n",
        "    encoder_optimizer.zero_grad()\n",
        "    decoder_optimizer.zero_grad()\n",
        "\n",
        "    input_length = input_tensor.size(0)\n",
        "    target_length = target_tensor.size(0)\n",
        "\n",
        "    encoder_outputs = torch.zeros(max_length, encoder.hidden_size, device=device)\n",
        "\n",
        "    loss = 0\n",
        "\n",
        "    for ei in range(input_length):\n",
        "        encoder_output, encoder_hidden = encoder(input_tensor[ei], encoder_hidden)\n",
        "        encoder_outputs[ei] = encoder_output[0, 0]\n",
        "\n",
        "    decoder_input = torch.tensor([[SOS_token]], device=device)\n",
        "\n",
        "    decoder_hidden = encoder_hidden\n",
        "\n",
        "    use_teacher_forcing = True if random.random() < teacher_forcing_ratio else False\n",
        "\n",
        "    if use_teacher_forcing:\n",
        "        # Teacher forcing: Feed the target as the next input\n",
        "        for di in range(target_length):\n",
        "            decoder_output, decoder_hidden, decoder_attention = decoder(decoder_input, decoder_hidden, encoder_outputs)\n",
        "            loss += criterion(decoder_output, target_tensor[di])\n",
        "            decoder_input = target_tensor[di]  # Teacher forcing\n",
        "\n",
        "    else:\n",
        "        # Without teacher forcing: use its own predictions as the next input\n",
        "        for di in range(target_length):\n",
        "            decoder_output, decoder_hidden, decoder_attention = decoder(decoder_input, decoder_hidden, encoder_outputs)\n",
        "            topv, topi = decoder_output.topk(1)\n",
        "            decoder_input = topi.squeeze().detach()  # detach from history as input\n",
        "\n",
        "            loss += criterion(decoder_output, target_tensor[di])\n",
        "            if decoder_input.item() == EOS_token:\n",
        "                break\n",
        "\n",
        "    loss.backward()\n",
        "\n",
        "    encoder_optimizer.step()\n",
        "    decoder_optimizer.step()\n",
        "\n",
        "    return loss.item() / target_length"
      ],
      "execution_count": 0,
      "outputs": []
    },
    {
      "cell_type": "code",
      "metadata": {
        "id": "V8pZ31xg0qni",
        "colab_type": "code",
        "colab": {}
      },
      "source": [
        "# Utility functions to calculate time taken\n",
        "\n",
        "import time\n",
        "import math\n",
        "\n",
        "\n",
        "def asMinutes(s):\n",
        "    m = math.floor(s / 60)\n",
        "    s -= m * 60\n",
        "    return '%dm %ds' % (m, s)\n",
        "\n",
        "\n",
        "def timeSince(since, percent):\n",
        "    now = time.time()\n",
        "    s = now - since\n",
        "    es = s / (percent)\n",
        "    rs = es - s\n",
        "    return '%s (- %s)' % (asMinutes(s), asMinutes(rs))"
      ],
      "execution_count": 0,
      "outputs": []
    },
    {
      "cell_type": "code",
      "metadata": {
        "id": "cCnBY4uw0qki",
        "colab_type": "code",
        "colab": {}
      },
      "source": [
        "# Training of the model\n",
        "\n",
        "def trainIters(encoder, decoder, n_iters, print_every=1000, plot_every=100, learning_rate=0.01):\n",
        "    start = time.time()\n",
        "    plot_losses = []\n",
        "    print_loss_total = 0  # Reset every print_every\n",
        "    plot_loss_total = 0  # Reset every plot_every\n",
        "\n",
        "    encoder_optimizer = optim.SGD(encoder.parameters(), lr=learning_rate)\n",
        "    decoder_optimizer = optim.SGD(decoder.parameters(), lr=learning_rate)\n",
        "    training_pairs = [tensorsFromPair(random.choice(pairs)) for i in range(n_iters)]\n",
        "\n",
        "    # Use negative log likelihood as loss function\n",
        "    criterion = nn.NLLLoss()\n",
        "\n",
        "    for iter in range(1, n_iters + 1):\n",
        "        training_pair = training_pairs[iter - 1]\n",
        "        input_tensor = training_pair[0]\n",
        "        target_tensor = training_pair[1]\n",
        "\n",
        "        loss = train(input_tensor, target_tensor, encoder,\n",
        "                     decoder, encoder_optimizer, decoder_optimizer, criterion)\n",
        "        print_loss_total += loss\n",
        "        plot_loss_total += loss\n",
        "\n",
        "        if iter % print_every == 0:\n",
        "            print_loss_avg = print_loss_total / print_every\n",
        "            print_loss_total = 0\n",
        "            print('%s (%d %d%%) %.4f' % (timeSince(start, iter / n_iters),\n",
        "                                         iter, iter / n_iters * 100, print_loss_avg))\n",
        "\n",
        "        if iter % plot_every == 0:\n",
        "            plot_loss_avg = plot_loss_total / plot_every\n",
        "            plot_losses.append(plot_loss_avg)\n",
        "            plot_loss_total = 0\n",
        "\n",
        "    showPlot(plot_losses)"
      ],
      "execution_count": 0,
      "outputs": []
    },
    {
      "cell_type": "code",
      "metadata": {
        "id": "LPAqyr0T0qdM",
        "colab_type": "code",
        "colab": {}
      },
      "source": [
        "# Utility function to plot the loss during training phase\n",
        "\n",
        "import matplotlib.pyplot as plt\n",
        "plt.switch_backend('agg')\n",
        "import matplotlib.ticker as ticker\n",
        "import numpy as np\n",
        "\n",
        "\n",
        "def showPlot(points):\n",
        "    plt.figure()\n",
        "    fig, ax = plt.subplots()\n",
        "    # this locator puts ticks at regular intervals\n",
        "    loc = ticker.MultipleLocator(base=0.2)\n",
        "    ax.yaxis.set_major_locator(loc)\n",
        "    plt.plot(points)"
      ],
      "execution_count": 0,
      "outputs": []
    },
    {
      "cell_type": "code",
      "metadata": {
        "id": "R2o5oN-KTUUy",
        "colab_type": "code",
        "outputId": "ca333a7b-1b46-49eb-938e-f78f861646bc",
        "colab": {
          "base_uri": "https://localhost:8080/",
          "height": 873
        }
      },
      "source": [
        "# Actual training of the model\n",
        "\n",
        "hidden_size = 256\n",
        "encoder1 = EncoderRNN(input_lang.n_words, hidden_size).to(device)\n",
        "attn_decoder1 = AttnDecoderRNN(hidden_size, output_lang.n_words, dropout_p=0.1).to(device)\n",
        "\n",
        "trainIters(encoder1, attn_decoder1, 175000, print_every=5000)"
      ],
      "execution_count": 0,
      "outputs": [
        {
          "output_type": "stream",
          "text": [
            "2m 33s (- 86m 50s) (5000 2%) 4.4364\n",
            "4m 56s (- 81m 28s) (10000 5%) 3.7877\n",
            "7m 21s (- 78m 33s) (15000 8%) 3.0571\n",
            "9m 47s (- 75m 51s) (20000 11%) 2.3813\n",
            "12m 14s (- 73m 24s) (25000 14%) 1.8458\n",
            "14m 41s (- 71m 0s) (30000 17%) 1.4127\n",
            "17m 11s (- 68m 44s) (35000 20%) 1.0998\n",
            "19m 40s (- 66m 25s) (40000 22%) 0.8417\n",
            "22m 12s (- 64m 9s) (45000 25%) 0.6733\n",
            "24m 43s (- 61m 49s) (50000 28%) 0.5295\n",
            "27m 17s (- 59m 32s) (55000 31%) 0.4480\n",
            "29m 49s (- 57m 10s) (60000 34%) 0.3812\n",
            "32m 22s (- 54m 46s) (65000 37%) 0.3178\n",
            "34m 52s (- 52m 19s) (70000 40%) 0.2559\n",
            "37m 25s (- 49m 53s) (75000 42%) 0.1904\n",
            "39m 57s (- 47m 27s) (80000 45%) 0.1538\n",
            "42m 29s (- 44m 59s) (85000 48%) 0.1479\n",
            "45m 0s (- 42m 30s) (90000 51%) 0.1288\n",
            "47m 32s (- 40m 2s) (95000 54%) 0.1126\n",
            "50m 4s (- 37m 33s) (100000 57%) 0.1068\n",
            "52m 36s (- 35m 4s) (105000 60%) 0.1008\n",
            "55m 9s (- 32m 35s) (110000 62%) 0.0962\n",
            "57m 41s (- 30m 5s) (115000 65%) 0.0987\n",
            "60m 13s (- 27m 36s) (120000 68%) 0.0863\n",
            "62m 46s (- 25m 6s) (125000 71%) 0.0851\n",
            "65m 18s (- 22m 36s) (130000 74%) 0.0962\n",
            "67m 50s (- 20m 6s) (135000 77%) 0.0973\n",
            "70m 22s (- 17m 35s) (140000 80%) 0.0959\n",
            "72m 55s (- 15m 5s) (145000 82%) 0.0796\n",
            "75m 26s (- 12m 34s) (150000 85%) 0.0898\n",
            "77m 58s (- 10m 3s) (155000 88%) 0.0870\n",
            "80m 29s (- 7m 32s) (160000 91%) 0.0776\n",
            "83m 1s (- 5m 1s) (165000 94%) 0.0782\n",
            "85m 34s (- 2m 31s) (170000 97%) 0.0897\n",
            "88m 7s (- 0m 0s) (175000 100%) 0.0771\n"
          ],
          "name": "stdout"
        },
        {
          "output_type": "display_data",
          "data": {
            "text/plain": [
              "<Figure size 432x288 with 0 Axes>"
            ]
          },
          "metadata": {
            "tags": []
          }
        },
        {
          "output_type": "display_data",
          "data": {
            "image/png": "[encoded data removed]",
            "text/plain": [
              "<Figure size 432x288 with 1 Axes>"
            ]
          },
          "metadata": {
            "tags": [],
            "needs_background": "light"
          }
        }
      ]
    },
    {
      "cell_type": "code",
      "metadata": {
        "id": "tsSkRmUw33b3",
        "colab_type": "code",
        "colab": {}
      },
      "source": [
        "# Save the encoder & decoder (using attention) models\n",
        "\n",
        "torch.save(encoder1.state_dict(), \"eng_to_hin_encoder\")\n",
        "torch.save(attn_decoder1.state_dict(), \"eng_to_hin_attn_decoder\")"
      ],
      "execution_count": 0,
      "outputs": []
    },
    {
      "cell_type": "code",
      "metadata": {
        "id": "w5iYwftYThZK",
        "colab_type": "code",
        "colab": {
          "base_uri": "https://localhost:8080/",
          "height": 34
        },
        "outputId": "f26d7539-ba92-4d22-badc-9b6bf64f19fc"
      },
      "source": [
        "encoder1 = EncoderRNN(input_lang.n_words, 256).to(device)\n",
        "encoder1.load_state_dict(torch.load('eng_to_hin_encoder'))\n",
        "\n",
        "attn_decoder1 = AttnDecoderRNN(256, output_lang.n_words, dropout_p=0.1).to(device)\n",
        "attn_decoder1.load_state_dict(torch.load('eng_to_hin_attn_decoder'))"
      ],
      "execution_count": 12,
      "outputs": [
        {
          "output_type": "execute_result",
          "data": {
            "text/plain": [
              "<All keys matched successfully>"
            ]
          },
          "metadata": {
            "tags": []
          },
          "execution_count": 12
        }
      ]
    },
    {
      "cell_type": "code",
      "metadata": {
        "id": "-YWp5ipySNYG",
        "colab_type": "code",
        "colab": {}
      },
      "source": [
        "# Evaluate the performance of the model by translating an English sentence into HIndi\n",
        "\n",
        "def evaluate(encoder, decoder, sentence, max_length=MAX_LENGTH):\n",
        "    with torch.no_grad():\n",
        "        input_tensor = tensorFromSentence(input_lang, sentence)\n",
        "        input_length = input_tensor.size()[0]\n",
        "        encoder_hidden = encoder.initHidden()\n",
        "\n",
        "        encoder_outputs = torch.zeros(max_length, encoder.hidden_size, device=device)\n",
        "\n",
        "        for ei in range(input_length):\n",
        "            encoder_output, encoder_hidden = encoder(input_tensor[ei],\n",
        "                                                     encoder_hidden)\n",
        "            encoder_outputs[ei] += encoder_output[0, 0]\n",
        "\n",
        "        decoder_input = torch.tensor([[SOS_token]], device=device)  # SOS\n",
        "\n",
        "        decoder_hidden = encoder_hidden\n",
        "\n",
        "        decoded_words = []\n",
        "        decoder_attentions = torch.zeros(max_length, max_length)\n",
        "\n",
        "        for di in range(max_length):\n",
        "            decoder_output, decoder_hidden, decoder_attention = decoder(\n",
        "                decoder_input, decoder_hidden, encoder_outputs)\n",
        "            decoder_attentions[di] = decoder_attention.data\n",
        "            topv, topi = decoder_output.data.topk(1)\n",
        "            if topi.item() == EOS_token:\n",
        "                decoded_words.append('<EOS>')\n",
        "                break\n",
        "            else:\n",
        "                decoded_words.append(output_lang.index2word[topi.item()])\n",
        "\n",
        "            decoder_input = topi.squeeze().detach()\n",
        "\n",
        "        return decoded_words, decoder_attentions[:di + 1]"
      ],
      "execution_count": 0,
      "outputs": []
    },
    {
      "cell_type": "code",
      "metadata": {
        "id": "ZmHMxVveSQe_",
        "colab_type": "code",
        "colab": {}
      },
      "source": [
        "# Choose sentences  randomly from the dataset & run them through the model\n",
        "\n",
        "def evaluateRandomly(encoder, decoder, n=10):\n",
        "    for i in range(n):\n",
        "        pair = random.choice(pairs)\n",
        "        print('>', pair[0])\n",
        "        print('=', pair[1])\n",
        "        output_words, attentions = evaluate(encoder, decoder, pair[0])\n",
        "        output_sentence = ' '.join(output_words)\n",
        "        print('<', output_sentence)\n",
        "        print('')"
      ],
      "execution_count": 0,
      "outputs": []
    },
    {
      "cell_type": "code",
      "metadata": {
        "id": "qLXWnN-Ub7LP",
        "colab_type": "code",
        "outputId": "301e2ad7-a5a2-4d0e-8821-782e9d918bb4",
        "colab": {
          "base_uri": "https://localhost:8080/",
          "height": 689
        }
      },
      "source": [
        "# Results of random evaluation\n",
        "\n",
        "evaluateRandomly(encoder1, attn_decoder1)"
      ],
      "execution_count": 17,
      "outputs": [
        {
          "output_type": "stream",
          "text": [
            "> nobody else offered to help .\n",
            "= किसी और न मदद करन की इचछा परकट नही करी ।\n",
            "< किसी और न मदद करन की इचछा परकट नही करी । <EOS>\n",
            "\n",
            "> \"who is it ?\" \"it's me .\"\n",
            "= \"कौन ह ?\" \"म ह\"\n",
            "< \"कौन ह ?\" \"म ह\" <EOS>\n",
            "\n",
            "> last night you forgot to turn off the radio , didn't you ?\n",
            "= तम कल रात रडियो को बद करना भल गए थ ना ?\n",
            "< तम कल रात रडियो को बद करना भल गए थ ना ? <EOS>\n",
            "\n",
            "> are you at home ?\n",
            "= तम घर प हो कया ?\n",
            "< तम घर प हो कया ? <EOS>\n",
            "\n",
            "> i'll attend .\n",
            "= म आऊगा ।\n",
            "< म आऊगा । <EOS>\n",
            "\n",
            "> you reap what you sow .\n",
            "= जसी करनी वसी भरनी ।\n",
            "< कर भला तो हो भला । <EOS>\n",
            "\n",
            "> it is no use asking me for money .\n",
            "= मझस पस मागन म कोई फायदा नही ह ।\n",
            "< मझस पस मागन म कोई फायदा नही ह । <EOS>\n",
            "\n",
            "> i live in boston , too .\n",
            "= म भी बॉसटन म ही रहता ह ।\n",
            "< म भी बॉसटन म ही रहता ह । <EOS>\n",
            "\n",
            "> he climbed the stairs .\n",
            "= वह सीडियो पर चढ गया ।\n",
            "< वह सीडियो पर चढ गया । <EOS>\n",
            "\n",
            "> do you know your size ?\n",
            "= कया आपको अपना नाप पता ह ?\n",
            "< कया आपको अपना नाप पता ह ? <EOS>\n",
            "\n"
          ],
          "name": "stdout"
        }
      ]
    },
    {
      "cell_type": "code",
      "metadata": {
        "id": "uoGSiHfFS7Op",
        "colab_type": "code",
        "colab": {}
      },
      "source": [
        "# Function to plot the attention paid to input sequence for each of the outputs in the translated sentence\n",
        "\n",
        "%matplotlib inline\n",
        "\n",
        "def showAttention(input_sentence, output_words, attentions):\n",
        "    # Set up figure with colorbar\n",
        "    fig = plt.figure()\n",
        "    ax = fig.add_subplot(111)\n",
        "    cax = ax.matshow(attentions.numpy(), cmap='bone')\n",
        "    fig.colorbar(cax)\n",
        "\n",
        "    # Set up axes\n",
        "    ax.set_xticklabels([''] + input_sentence.split(' ') +\n",
        "                       ['<EOS>'], rotation=90)\n",
        "    \n",
        "    # The y-labels are commented out because matplotlib doe not support Hindi fonts\n",
        "    # ax.set_yticklabels([''] + output_words)\n",
        "\n",
        "    # Show label at every tick\n",
        "    ax.xaxis.set_major_locator(ticker.MultipleLocator(1))\n",
        "    # ax.yaxis.set_major_locator(ticker.MultipleLocator(1))\n",
        "\n",
        "    plt.show()\n",
        "\n",
        "\n",
        "def evaluateAndShowAttention(input_sentence):\n",
        "    output_words, attentions = evaluate(encoder1, attn_decoder1, input_sentence)\n",
        "    print('input =', input_sentence)\n",
        "    print('output =', ' '.join(output_words))\n",
        "    showAttention(input_sentence, output_words, attentions)"
      ],
      "execution_count": 0,
      "outputs": []
    },
    {
      "cell_type": "markdown",
      "metadata": {
        "id": "-dx8ccNMVSpR",
        "colab_type": "text"
      },
      "source": [
        "## Results\n",
        "\n",
        "Following are some results obtained by the Sequence to Sequence translation model"
      ]
    },
    {
      "cell_type": "code",
      "metadata": {
        "id": "udcYCYU2cPmf",
        "colab_type": "code",
        "outputId": "c54f13d0-ecb9-4f0f-b37d-c1accc132708",
        "colab": {
          "base_uri": "https://localhost:8080/",
          "height": 292
        }
      },
      "source": [
        "evaluateAndShowAttention(\"please answer my questions .\")\n",
        "# Pretty accurate"
      ],
      "execution_count": 23,
      "outputs": [
        {
          "output_type": "stream",
          "text": [
            "input = please answer my questions .\n",
            "output = मर सवालो का जवाब दो । <EOS>\n"
          ],
          "name": "stdout"
        },
        {
          "output_type": "display_data",
          "data": {
            "image/png": "[encoded data removed]",
            "text/plain": [
              "<Figure size 432x288 with 2 Axes>"
            ]
          },
          "metadata": {
            "tags": [],
            "needs_background": "light"
          }
        }
      ]
    },
    {
      "cell_type": "code",
      "metadata": {
        "id": "Nm7mLB92VcDx",
        "colab_type": "code",
        "colab": {
          "base_uri": "https://localhost:8080/",
          "height": 292
        },
        "outputId": "8478b434-2c5d-4651-ea68-c94cbb3c7f1d"
      },
      "source": [
        "evaluateAndShowAttention(\"when will he come ?\")\n",
        "# Captures some context, but lacks grammatical correctness"
      ],
      "execution_count": 28,
      "outputs": [
        {
          "output_type": "stream",
          "text": [
            "input = when will he come ?\n",
            "output = वह कब आएगा कया ? <EOS>\n"
          ],
          "name": "stdout"
        },
        {
          "output_type": "display_data",
          "data": {
            "image/png": "[encoded data removed]",
            "text/plain": [
              "<Figure size 432x288 with 2 Axes>"
            ]
          },
          "metadata": {
            "tags": [],
            "needs_background": "light"
          }
        }
      ]
    },
    {
      "cell_type": "code",
      "metadata": {
        "id": "YntgoPC6V6dM",
        "colab_type": "code",
        "colab": {
          "base_uri": "https://localhost:8080/",
          "height": 292
        },
        "outputId": "743ea6ba-9c57-441e-d41e-9ccc8981a301"
      },
      "source": [
        "evaluateAndShowAttention(\"people from france speak french .\")\n",
        "# Sentence is structurally crrect, but far from actual translation"
      ],
      "execution_count": 30,
      "outputs": [
        {
          "output_type": "stream",
          "text": [
            "input = people from france speak french .\n",
            "output = सभी की सभी स नफरत ह । <EOS>\n"
          ],
          "name": "stdout"
        },
        {
          "output_type": "display_data",
          "data": {
            "image/png": "[encoded data removed]",
            "text/plain": [
              "<Figure size 432x288 with 2 Axes>"
            ]
          },
          "metadata": {
            "tags": [],
            "needs_background": "light"
          }
        }
      ]
    },
    {
      "cell_type": "code",
      "metadata": {
        "id": "HBM2TqSYWHQP",
        "colab_type": "code",
        "colab": {
          "base_uri": "https://localhost:8080/",
          "height": 292
        },
        "outputId": "981d192d-e3a8-4ffb-964d-1f6496847f04"
      },
      "source": [
        "evaluateAndShowAttention(\"what am i supposed to do ?\")\n",
        "# Meaning closely related to actual translation, yet not correct"
      ],
      "execution_count": 35,
      "outputs": [
        {
          "output_type": "stream",
          "text": [
            "input = what am i supposed to do ?\n",
            "output = आपको कया करना अचछा लगता ह ? <EOS>\n"
          ],
          "name": "stdout"
        },
        {
          "output_type": "display_data",
          "data": {
            "image/png": "[encoded data removed]",
            "text/plain": [
              "<Figure size 432x288 with 2 Axes>"
            ]
          },
          "metadata": {
            "tags": [],
            "needs_background": "light"
          }
        }
      ]
    },
    {
      "cell_type": "markdown",
      "metadata": {
        "id": "50CfquMQW1dw",
        "colab_type": "text"
      },
      "source": [
        "Given the minimal amount of data & lesser number of iterations available for training, the model is still able to produce Hindi senteces which are more or less gramatically correct, but may not be the best translation of the corresponding ENglish sentence."
      ]
    }
  ]
}