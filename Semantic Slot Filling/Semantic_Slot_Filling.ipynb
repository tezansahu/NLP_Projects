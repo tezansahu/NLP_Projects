{
  "nbformat": 4,
  "nbformat_minor": 0,
  "metadata": {
    "colab": {
      "name": "Semantic Slot Filling.ipynb",
      "provenance": [],
      "collapsed_sections": []
    },
    "kernelspec": {
      "name": "python3",
      "display_name": "Python 3"
    },
    "accelerator": "GPU"
  },
  "cells": [
    {
      "cell_type": "markdown",
      "metadata": {
        "id": "95l9ItErzXFV",
        "colab_type": "text"
      },
      "source": [
        "# Directory Setup & Imports"
      ]
    },
    {
      "cell_type": "code",
      "metadata": {
        "id": "Qzg5qTiJbs-c",
        "colab_type": "code",
        "colab": {}
      },
      "source": [
        "import os\n",
        "os.chdir(\"/content/drive/My Drive/Datasets\")"
      ],
      "execution_count": 0,
      "outputs": []
    },
    {
      "cell_type": "code",
      "metadata": {
        "id": "q4RjyeHAYlRG",
        "colab_type": "code",
        "colab": {}
      },
      "source": [
        "import torch\n",
        "from torch import nn\n",
        "from torch.nn.utils.rnn import pad_sequence, pack_padded_sequence, pad_packed_sequence\n",
        "from torch.utils.data import Dataset, DataLoader\n",
        "from torch.nn import functional as F\n",
        "from torch import optim\n",
        "import pandas as pd\n",
        "import numpy as np\n",
        "import matplotlib.pyplot as plt\n",
        "\n",
        "%matplotlib inline\n",
        "\n",
        "device = torch.device(\"cuda\" if torch.cuda.is_available() else \"cpu\")"
      ],
      "execution_count": 0,
      "outputs": []
    },
    {
      "cell_type": "markdown",
      "metadata": {
        "id": "n_v2_6iEzfek",
        "colab_type": "text"
      },
      "source": [
        "# Data Preprocessing Steps"
      ]
    },
    {
      "cell_type": "markdown",
      "metadata": {
        "id": "G5ifTY2AzlK8",
        "colab_type": "text"
      },
      "source": [
        "### Create vocabulary of words & slots from Training Data"
      ]
    },
    {
      "cell_type": "code",
      "metadata": {
        "id": "d4ekm4PLcQJI",
        "colab_type": "code",
        "colab": {}
      },
      "source": [
        "vocab = {\"<PAD>\": 0, \"BOS\": 1, \"EOS\": 2, \"<unk>\": 3}\n",
        "vocab_size = 4\n",
        "\n",
        "slots = {\"<PAD>\": 0, \"BOS\": 1, \"EOS\": 2, \"<unk>\": 3}\n",
        "slots_size = 4\n",
        "\n",
        "# Add BOS & EOS markers to sentences\n",
        "def addSentenceMarkers(lines):\n",
        "    new_lines = []\n",
        "    for line in lines:\n",
        "        new_lines.append(\"BOS \" + line + \" EOS\")\n",
        "    return new_lines\n",
        "\n",
        "# Prepare the Vocabulary based on the sentences provided\n",
        "def prepVocab(lines):\n",
        "    for line in lines:\n",
        "        for word in line.split():\n",
        "            if word not in vocab:\n",
        "                global vocab_size\n",
        "                vocab[word] = vocab_size\n",
        "                vocab_size += 1\n",
        "\n",
        "# Prepare the Slots Vocabulary based on the sentences provided\n",
        "def prepSlots(lines):\n",
        "    for line in lines:\n",
        "        for word in line.split():\n",
        "            if word not in slots:\n",
        "                global slots_size\n",
        "                slots[word] = slots_size\n",
        "                slots_size += 1\n",
        "\n",
        "# Convert input sentences to vocabulary indices\n",
        "def indexFromSentence(lines):\n",
        "    sent_indices = []\n",
        "    for line in lines:\n",
        "        word_indices = []\n",
        "        for word in line.split():\n",
        "            try:\n",
        "                word_indices.append(vocab[word])\n",
        "            except KeyError as e:\n",
        "                word_indices.append(vocab[\"<unk>\"])\n",
        "        sent_indices.append(word_indices)\n",
        "    return sent_indices\n",
        "\n",
        "# Convert output sentences to slot indices\n",
        "def indexFromSlots(lines):\n",
        "    sent_indices = []\n",
        "    for line in lines:\n",
        "        word_indices = []\n",
        "        for word in line.split():\n",
        "            try:\n",
        "                word_indices.append(slots[word])\n",
        "            except KeyError as e:\n",
        "                word_indices.append(slots[\"<unk>\"])\n",
        "        sent_indices.append(word_indices)\n",
        "    return sent_indices\n",
        "\n",
        "# Load the training dataset\n",
        "def loadTrainData(seq_in_path, seq_out_path):\n",
        "    with open(seq_in_path, \"r\") as file:\n",
        "        input_sent = file.readlines()\n",
        "    input_sent = addSentenceMarkers(input_sent)\n",
        "    prepVocab(input_sent)\n",
        "\n",
        "    with open(seq_out_path, \"r\") as file:\n",
        "        output_slots = file.readlines()\n",
        "    output_slots = addSentenceMarkers(output_slots)\n",
        "    prepSlots(output_slots)\n",
        "\n",
        "    sent_indices = indexFromSentence(input_sent)\n",
        "    slot_indices = indexFromSlots(output_slots)\n",
        "\n",
        "    df = pd.DataFrame({\"sentence\": sent_indices, \"slots\": slot_indices})\n",
        "    return df"
      ],
      "execution_count": 0,
      "outputs": []
    },
    {
      "cell_type": "code",
      "metadata": {
        "id": "cpQztJ0KlYwN",
        "colab_type": "code",
        "colab": {}
      },
      "source": [
        "train_df = loadTrainData(\"snips/train/seq.in\", \"snips/train/seq.out\")"
      ],
      "execution_count": 0,
      "outputs": []
    },
    {
      "cell_type": "code",
      "metadata": {
        "id": "2M6G1em_f2Ik",
        "colab_type": "code",
        "outputId": "20089f40-aba3-4f08-831b-07bc8d4f2012",
        "colab": {
          "base_uri": "https://localhost:8080/",
          "height": 195
        }
      },
      "source": [
        "train_df.head()"
      ],
      "execution_count": 5,
      "outputs": [
        {
          "output_type": "execute_result",
          "data": {
            "text/html": [
              "<div>\n",
              "<style scoped>\n",
              "    .dataframe tbody tr th:only-of-type {\n",
              "        vertical-align: middle;\n",
              "    }\n",
              "\n",
              "    .dataframe tbody tr th {\n",
              "        vertical-align: top;\n",
              "    }\n",
              "\n",
              "    .dataframe thead th {\n",
              "        text-align: right;\n",
              "    }\n",
              "</style>\n",
              "<table border=\"1\" class=\"dataframe\">\n",
              "  <thead>\n",
              "    <tr style=\"text-align: right;\">\n",
              "      <th></th>\n",
              "      <th>sentence</th>\n",
              "      <th>slots</th>\n",
              "    </tr>\n",
              "  </thead>\n",
              "  <tbody>\n",
              "    <tr>\n",
              "      <th>0</th>\n",
              "      <td>[1, 4, 5, 6, 7, 8, 9, 10, 11, 2]</td>\n",
              "      <td>[1, 4, 4, 5, 4, 6, 4, 7, 8, 2]</td>\n",
              "    </tr>\n",
              "    <tr>\n",
              "      <th>1</th>\n",
              "      <td>[1, 12, 13, 5, 14, 5, 15, 16, 17, 18, 2]</td>\n",
              "      <td>[1, 4, 9, 10, 10, 4, 4, 11, 12, 4, 2]</td>\n",
              "    </tr>\n",
              "    <tr>\n",
              "      <th>2</th>\n",
              "      <td>[1, 19, 20, 21, 22, 23, 24, 25, 26, 27, 28, 29...</td>\n",
              "      <td>[1, 4, 4, 4, 13, 14, 4, 4, 4, 4, 15, 4, 4, 4, ...</td>\n",
              "    </tr>\n",
              "    <tr>\n",
              "      <th>3</th>\n",
              "      <td>[1, 32, 15, 33, 34, 35, 36, 2]</td>\n",
              "      <td>[1, 4, 4, 17, 18, 19, 19, 2]</td>\n",
              "    </tr>\n",
              "    <tr>\n",
              "      <th>4</th>\n",
              "      <td>[1, 37, 12, 38, 39, 5, 40, 18, 21, 41, 42, 2]</td>\n",
              "      <td>[1, 4, 4, 5, 20, 4, 21, 4, 11, 12, 12, 2]</td>\n",
              "    </tr>\n",
              "  </tbody>\n",
              "</table>\n",
              "</div>"
            ],
            "text/plain": [
              "                                            sentence                                              slots\n",
              "0                   [1, 4, 5, 6, 7, 8, 9, 10, 11, 2]                     [1, 4, 4, 5, 4, 6, 4, 7, 8, 2]\n",
              "1           [1, 12, 13, 5, 14, 5, 15, 16, 17, 18, 2]              [1, 4, 9, 10, 10, 4, 4, 11, 12, 4, 2]\n",
              "2  [1, 19, 20, 21, 22, 23, 24, 25, 26, 27, 28, 29...  [1, 4, 4, 4, 13, 14, 4, 4, 4, 4, 15, 4, 4, 4, ...\n",
              "3                     [1, 32, 15, 33, 34, 35, 36, 2]                       [1, 4, 4, 17, 18, 19, 19, 2]\n",
              "4      [1, 37, 12, 38, 39, 5, 40, 18, 21, 41, 42, 2]          [1, 4, 4, 5, 20, 4, 21, 4, 11, 12, 12, 2]"
            ]
          },
          "metadata": {
            "tags": []
          },
          "execution_count": 5
        }
      ]
    },
    {
      "cell_type": "code",
      "metadata": {
        "id": "l90nSTFGf2F4",
        "colab_type": "code",
        "outputId": "35624fab-a5d2-414e-fa15-ddfa1a4017be",
        "colab": {
          "base_uri": "https://localhost:8080/",
          "height": 67
        }
      },
      "source": [
        "print(\"Vocabulary Size: \", vocab_size)\n",
        "print(\"Types of Slots: \", slots_size)\n",
        "print(\"Number of training examples: \", len(train_df))"
      ],
      "execution_count": 6,
      "outputs": [
        {
          "output_type": "stream",
          "text": [
            "Vocabulary Size:  11422\n",
            "Types of Slots:  76\n",
            "Number of training examples:  13084\n"
          ],
          "name": "stdout"
        }
      ]
    },
    {
      "cell_type": "code",
      "metadata": {
        "id": "nk3p6cWKJ7NL",
        "colab_type": "code",
        "colab": {}
      },
      "source": [
        "# Store reverse mappings from indices to words in vocabulary & slots (needed during evaluation)\n",
        "\n",
        "indices_to_words = {v:k for k,v in vocab.items()}\n",
        "indices_to_slots = {v:k for k,v in slots.items()}"
      ],
      "execution_count": 0,
      "outputs": []
    },
    {
      "cell_type": "code",
      "metadata": {
        "id": "EQVa4AhTKcdj",
        "colab_type": "code",
        "colab": {}
      },
      "source": [
        "# Load the validation dataset\n",
        "def loadValidData(seq_in_path, seq_out_path):\n",
        "    with open(seq_in_path, \"r\") as file:\n",
        "        input_sent = file.readlines()\n",
        "    input_sent = addSentenceMarkers(input_sent)\n",
        "\n",
        "    with open(seq_out_path, \"r\") as file:\n",
        "        output_slots = file.readlines()\n",
        "    output_slots = addSentenceMarkers(output_slots)\n",
        "\n",
        "    sent_indices = indexFromSentence(input_sent)\n",
        "    slot_indices = indexFromSlots(output_slots)\n",
        "\n",
        "    df = pd.DataFrame({\"sentence\": sent_indices, \"slots\": slot_indices})\n",
        "    return df"
      ],
      "execution_count": 0,
      "outputs": []
    },
    {
      "cell_type": "code",
      "metadata": {
        "id": "Ca68oUbYK4Bq",
        "colab_type": "code",
        "outputId": "19bc3327-825d-4b11-ef61-9b8162e01759",
        "colab": {
          "base_uri": "https://localhost:8080/",
          "height": 195
        }
      },
      "source": [
        "valid_df = loadValidData(\"snips/valid/seq.in\", \"snips/valid/seq.out\")\n",
        "valid_df.head()"
      ],
      "execution_count": 9,
      "outputs": [
        {
          "output_type": "execute_result",
          "data": {
            "text/html": [
              "<div>\n",
              "<style scoped>\n",
              "    .dataframe tbody tr th:only-of-type {\n",
              "        vertical-align: middle;\n",
              "    }\n",
              "\n",
              "    .dataframe tbody tr th {\n",
              "        vertical-align: top;\n",
              "    }\n",
              "\n",
              "    .dataframe thead th {\n",
              "        text-align: right;\n",
              "    }\n",
              "</style>\n",
              "<table border=\"1\" class=\"dataframe\">\n",
              "  <thead>\n",
              "    <tr style=\"text-align: right;\">\n",
              "      <th></th>\n",
              "      <th>sentence</th>\n",
              "      <th>slots</th>\n",
              "    </tr>\n",
              "  </thead>\n",
              "  <tbody>\n",
              "    <tr>\n",
              "      <th>0</th>\n",
              "      <td>[1, 19, 162, 163, 5, 1002, 21, 139, 299, 40, 4...</td>\n",
              "      <td>[1, 4, 4, 4, 4, 4, 4, 17, 4, 21, 11, 12, 4, 2]</td>\n",
              "    </tr>\n",
              "    <tr>\n",
              "      <th>1</th>\n",
              "      <td>[1, 12, 15, 210, 5, 40, 604, 256, 18, 2]</td>\n",
              "      <td>[1, 4, 4, 17, 4, 21, 11, 12, 4, 2]</td>\n",
              "    </tr>\n",
              "    <tr>\n",
              "      <th>2</th>\n",
              "      <td>[1, 12, 3890, 70, 5, 40, 211, 110, 1673, 18, 2]</td>\n",
              "      <td>[1, 4, 11, 12, 4, 21, 9, 10, 10, 4, 2]</td>\n",
              "    </tr>\n",
              "    <tr>\n",
              "      <th>3</th>\n",
              "      <td>[1, 12, 21, 33, 51, 844, 3, 5, 40, 855, 2531, ...</td>\n",
              "      <td>[1, 4, 4, 17, 4, 5, 20, 4, 21, 11, 12, 4, 2]</td>\n",
              "    </tr>\n",
              "    <tr>\n",
              "      <th>4</th>\n",
              "      <td>[1, 12, 21, 210, 5, 510, 511, 1638, 512, 2]</td>\n",
              "      <td>[1, 4, 4, 17, 4, 11, 12, 12, 12, 2]</td>\n",
              "    </tr>\n",
              "  </tbody>\n",
              "</table>\n",
              "</div>"
            ],
            "text/plain": [
              "                                            sentence                                           slots\n",
              "0  [1, 19, 162, 163, 5, 1002, 21, 139, 299, 40, 4...  [1, 4, 4, 4, 4, 4, 4, 17, 4, 21, 11, 12, 4, 2]\n",
              "1           [1, 12, 15, 210, 5, 40, 604, 256, 18, 2]              [1, 4, 4, 17, 4, 21, 11, 12, 4, 2]\n",
              "2    [1, 12, 3890, 70, 5, 40, 211, 110, 1673, 18, 2]          [1, 4, 11, 12, 4, 21, 9, 10, 10, 4, 2]\n",
              "3  [1, 12, 21, 33, 51, 844, 3, 5, 40, 855, 2531, ...    [1, 4, 4, 17, 4, 5, 20, 4, 21, 11, 12, 4, 2]\n",
              "4        [1, 12, 21, 210, 5, 510, 511, 1638, 512, 2]             [1, 4, 4, 17, 4, 11, 12, 12, 12, 2]"
            ]
          },
          "metadata": {
            "tags": []
          },
          "execution_count": 9
        }
      ]
    },
    {
      "cell_type": "markdown",
      "metadata": {
        "id": "ohhQwcuvz1Ms",
        "colab_type": "text"
      },
      "source": [
        "### Create custom Dataset & Dataloader"
      ]
    },
    {
      "cell_type": "code",
      "metadata": {
        "id": "ZzXAkqbJnBz9",
        "colab_type": "code",
        "colab": {}
      },
      "source": [
        "# Custom class to hande the Snips Dataset\n",
        "class SnipsDataset(Dataset):\n",
        "    def __init__(self, dataframe):\n",
        "        self.data = dataframe\n",
        "    \n",
        "    def __len__(self):\n",
        "        return len(self.data)\n",
        "    \n",
        "    def __getitem__(self, i):\n",
        "        return self.data.iloc[i][\"sentence\"], self.data.iloc[i][\"slots\"]"
      ],
      "execution_count": 0,
      "outputs": []
    },
    {
      "cell_type": "code",
      "metadata": {
        "id": "eUj0Q0een4NY",
        "colab_type": "code",
        "colab": {}
      },
      "source": [
        "# Function to combine a batch of variable length sentence-slot pairs & pad them appropriately to train using an RNN\n",
        "def pad_collate(batch):\n",
        "    (xx, yy) = zip(*batch)\n",
        "\n",
        "    x_lens = torch.tensor([len(x) for x in xx], dtype=torch.int64, device=device)\n",
        "    y_lens = torch.tensor([len(y) for y in yy], dtype=torch.int64, device=device)\n",
        "\n",
        "    longest_sent = max(x_lens)\n",
        "    batch_size  = len(xx)\n",
        "\n",
        "\n",
        "    xx_pad = torch.ones((batch_size, longest_sent), dtype=torch.int64, device=device) * 0\n",
        "    yy_pad = torch.ones((batch_size, longest_sent), dtype=torch.int64, device=device) * 0\n",
        "\n",
        "    for i, x_len in enumerate(x_lens):\n",
        "        xx_pad[i, 0:x_len] = torch.tensor(xx[i][:x_len])\n",
        "        yy_pad[i, 0:x_len] = torch.tensor(yy[i][:x_len])\n",
        "\n",
        "    return xx_pad, yy_pad, x_lens, y_lens"
      ],
      "execution_count": 0,
      "outputs": []
    },
    {
      "cell_type": "markdown",
      "metadata": {
        "id": "foDsQhaK0CMD",
        "colab_type": "text"
      },
      "source": [
        "# Model for Semantic Slot Filling"
      ]
    },
    {
      "cell_type": "code",
      "metadata": {
        "id": "bugWuHxJo4Dy",
        "colab_type": "code",
        "colab": {}
      },
      "source": [
        "class SlotFillingNetwork(nn.Module):\n",
        "    def __init__(self, vocab_size, slots_size, embedding_size, hidden_size):\n",
        "        super(SlotFillingNetwork, self).__init__()\n",
        "\n",
        "        self.vocab_size = vocab_size\n",
        "        self.slots_size = slots_size\n",
        "        self.hidden_size = hidden_size\n",
        "\n",
        "        self.embedding = nn.Embedding(self.vocab_size, embedding_size)\n",
        "        self.gru = nn.GRU(embedding_size, self.hidden_size, num_layers = 1, batch_first = True)\n",
        "        self.dense = nn.Linear(self.hidden_size, self.slots_size)\n",
        "\n",
        "    def forward(self, input, input_lens, hidden):\n",
        "        embedded = self.embedding(input)\n",
        "\n",
        "        # Pack the padded, embedded sequences before passing through the GRU\n",
        "        sentences_packed = pack_padded_sequence(embedded, input_lens, batch_first=True, enforce_sorted=False)\n",
        "\n",
        "        output_packed, hidden = self.gru(sentences_packed, hidden)\n",
        "\n",
        "        # Return the padded output format\n",
        "        output_padded, output_lengths = pad_packed_sequence(output_packed, batch_first=True)\n",
        "\n",
        "        output_padded = self.dense(output_padded)\n",
        "\n",
        "        return output_padded, hidden\n",
        "\n",
        "    def initHidden(self, batch_size):\n",
        "        return torch.zeros(1, batch_size, self.hidden_size, device=device)"
      ],
      "execution_count": 0,
      "outputs": []
    },
    {
      "cell_type": "code",
      "metadata": {
        "id": "Ka6aob7Zww_i",
        "colab_type": "code",
        "outputId": "997f0563-8e07-43f2-bbb0-234744b4580b",
        "colab": {
          "base_uri": "https://localhost:8080/",
          "height": 101
        }
      },
      "source": [
        "# Create the SlotFillingNetwork Model\n",
        "slot_filling_net = SlotFillingNetwork(vocab_size, slots_size, embedding_size = 100, hidden_size = 100).to(device)\n",
        "print(slot_filling_net)"
      ],
      "execution_count": 13,
      "outputs": [
        {
          "output_type": "stream",
          "text": [
            "SlotFillingNetwork(\n",
            "  (embedding): Embedding(11422, 100)\n",
            "  (gru): GRU(100, 100, batch_first=True)\n",
            "  (dense): Linear(in_features=100, out_features=76, bias=True)\n",
            ")\n"
          ],
          "name": "stdout"
        }
      ]
    },
    {
      "cell_type": "markdown",
      "metadata": {
        "id": "EgBHu2oo0Isb",
        "colab_type": "text"
      },
      "source": [
        "# Training of the Model"
      ]
    },
    {
      "cell_type": "markdown",
      "metadata": {
        "id": "tE99VX1K0MYc",
        "colab_type": "text"
      },
      "source": [
        "### Define the Loss Function & Optimizer"
      ]
    },
    {
      "cell_type": "code",
      "metadata": {
        "id": "fXEcXKg3A5D6",
        "colab_type": "code",
        "colab": {}
      },
      "source": [
        "optimizer = optim.Adagrad(slot_filling_net.parameters(), lr = 0.01)\n",
        "CELoss = nn.CrossEntropyLoss(ignore_index = slots[\"<PAD>\"])"
      ],
      "execution_count": 0,
      "outputs": []
    },
    {
      "cell_type": "markdown",
      "metadata": {
        "id": "9vXwTB_A0Qok",
        "colab_type": "text"
      },
      "source": [
        "### Create the function for training the model"
      ]
    },
    {
      "cell_type": "code",
      "metadata": {
        "id": "8xSgXipAy-bx",
        "colab_type": "code",
        "colab": {}
      },
      "source": [
        "def train(batch_size=64, num_epochs=50, print_every=None):\n",
        "    train_dataset = SnipsDataset(train_df)\n",
        "    train_data_loader = DataLoader(dataset=train_dataset, batch_size=batch_size, collate_fn=pad_collate)\n",
        "\n",
        "    valid_dataset = SnipsDataset(valid_df)\n",
        "    valid_data_loader = DataLoader(dataset=valid_dataset, batch_size=len(valid_dataset), collate_fn=pad_collate)\n",
        "\n",
        "    train_loss = []\n",
        "    train_iter = []\n",
        "    valid_loss = []\n",
        "    valid_iter = []\n",
        "\n",
        "    iter = 0\n",
        "\n",
        "    for epoch in range(num_epochs):\n",
        "        tot_epoch_loss = 0\n",
        "        for i, (batch_sent, batch_slot, batch_sent_lens, batch_slot_lens) in enumerate(train_data_loader):\n",
        "            hidden = slot_filling_net.initHidden(batch_size)\n",
        "            iter += 1\n",
        "            slot_predicted_padded, hidden = slot_filling_net.forward(batch_sent, batch_sent_lens, hidden)\n",
        "            \n",
        "            batch_loss = CELoss(slot_predicted_padded.view(-1, slots_size), batch_slot.view(-1))\n",
        "            tot_epoch_loss += batch_loss.item() * len(batch_sent)\n",
        "            train_loss.append(batch_loss)\n",
        "            train_iter.append(iter)\n",
        "            \n",
        "            if print_every and ((i+1) % print_every == 0 or i == 0):\n",
        "                # Once a while, run the model on the validation dataset (as a batch) to check validation loss\n",
        "                with torch.no_grad():\n",
        "                    valid_hidden = slot_filling_net.initHidden(len(valid_dataset))\n",
        "                    for valid_batch_sent, valid_batch_slot, valid_batch_sent_lens, valid_batch_slot_lens in valid_data_loader:\n",
        "                        valid_slot_predicted_padded, valid_hidden = slot_filling_net.forward(valid_batch_sent, valid_batch_sent_lens, valid_hidden)\n",
        "                        valid_batch_loss = CELoss(valid_slot_predicted_padded.view(-1, slots_size), valid_batch_slot.view(-1))\n",
        "                        valid_loss.append(valid_batch_loss)\n",
        "                        valid_iter.append(iter)\n",
        "\n",
        "                print(\"[Epoch: %d\\tBatch: %d]\\tTraining Loss: %.4f\\tValidation Loss: %.4f\" % (epoch+1, i+1, batch_loss.item(), valid_batch_loss.item()))\n",
        "            \n",
        "            batch_loss.backward(retain_graph=True)\n",
        "            optimizer.step()\n",
        "        \n",
        "        avg_epoch_loss = tot_epoch_loss / len(train_dataset.data)\n",
        "        print(\"[Epoch: %d]\\tTraining Loss: %.4f\\n\" % (epoch+1, avg_epoch_loss))\n",
        "    \n",
        "    return train_loss, train_iter, valid_loss, valid_iter\n"
      ],
      "execution_count": 0,
      "outputs": []
    },
    {
      "cell_type": "markdown",
      "metadata": {
        "id": "CN45VXsAPptL",
        "colab_type": "text"
      },
      "source": [
        "### Actual training & Plotting of Loss vs Iterations"
      ]
    },
    {
      "cell_type": "code",
      "metadata": {
        "id": "Muo7DsVVK0cE",
        "colab_type": "code",
        "outputId": "f82395b0-abac-440d-fe4a-580d8e402b6d",
        "colab": {
          "base_uri": "https://localhost:8080/",
          "height": 1000
        }
      },
      "source": [
        "train_loss, train_iter, valid_loss, valid_iter = train(batch_size=64, num_epochs=5, print_every=50)\n",
        "\n",
        "fig, ax = plt.subplots(figsize=(16,8))\n",
        "plt.plot(train_iter, train_loss, label = \"Training Loss\")\n",
        "plt.plot(valid_iter, valid_loss, label = \"Validation Loss\")\n",
        "plt.legend()\n",
        "plt.show()"
      ],
      "execution_count": 16,
      "outputs": [
        {
          "output_type": "stream",
          "text": [
            "[Epoch: 1\tBatch: 1]\tTraining Loss: 4.3278\tValidation Loss: 4.3135\n",
            "[Epoch: 1\tBatch: 50]\tTraining Loss: 0.8218\tValidation Loss: 0.8274\n",
            "[Epoch: 1\tBatch: 100]\tTraining Loss: 0.5484\tValidation Loss: 0.5285\n",
            "[Epoch: 1\tBatch: 150]\tTraining Loss: 0.4134\tValidation Loss: 0.4391\n",
            "[Epoch: 1\tBatch: 200]\tTraining Loss: 0.4456\tValidation Loss: 0.3788\n",
            "[Epoch: 1]\tTraining Loss: 0.7296\n",
            "\n",
            "[Epoch: 2\tBatch: 1]\tTraining Loss: 0.4255\tValidation Loss: 0.3761\n",
            "[Epoch: 2\tBatch: 50]\tTraining Loss: 0.2619\tValidation Loss: 0.3435\n",
            "[Epoch: 2\tBatch: 100]\tTraining Loss: 0.2875\tValidation Loss: 0.3284\n",
            "[Epoch: 2\tBatch: 150]\tTraining Loss: 0.2191\tValidation Loss: 0.3224\n",
            "[Epoch: 2\tBatch: 200]\tTraining Loss: 0.2460\tValidation Loss: 0.3217\n",
            "[Epoch: 2]\tTraining Loss: 0.2401\n",
            "\n",
            "[Epoch: 3\tBatch: 1]\tTraining Loss: 0.2386\tValidation Loss: 0.3230\n",
            "[Epoch: 3\tBatch: 50]\tTraining Loss: 0.1577\tValidation Loss: 0.3197\n",
            "[Epoch: 3\tBatch: 100]\tTraining Loss: 0.1643\tValidation Loss: 0.3145\n",
            "[Epoch: 3\tBatch: 150]\tTraining Loss: 0.1490\tValidation Loss: 0.3202\n",
            "[Epoch: 3\tBatch: 200]\tTraining Loss: 0.1652\tValidation Loss: 0.3176\n",
            "[Epoch: 3]\tTraining Loss: 0.1482\n",
            "\n",
            "[Epoch: 4\tBatch: 1]\tTraining Loss: 0.1612\tValidation Loss: 0.3170\n",
            "[Epoch: 4\tBatch: 50]\tTraining Loss: 0.1154\tValidation Loss: 0.3155\n",
            "[Epoch: 4\tBatch: 100]\tTraining Loss: 0.1148\tValidation Loss: 0.3218\n",
            "[Epoch: 4\tBatch: 150]\tTraining Loss: 0.1019\tValidation Loss: 0.3304\n",
            "[Epoch: 4\tBatch: 200]\tTraining Loss: 0.1334\tValidation Loss: 0.3266\n",
            "[Epoch: 4]\tTraining Loss: 0.1103\n",
            "\n",
            "[Epoch: 5\tBatch: 1]\tTraining Loss: 0.1280\tValidation Loss: 0.3263\n",
            "[Epoch: 5\tBatch: 50]\tTraining Loss: 0.0844\tValidation Loss: 0.3353\n",
            "[Epoch: 5\tBatch: 100]\tTraining Loss: 0.0892\tValidation Loss: 0.3507\n",
            "[Epoch: 5\tBatch: 150]\tTraining Loss: 0.0932\tValidation Loss: 0.3738\n",
            "[Epoch: 5\tBatch: 200]\tTraining Loss: 0.1204\tValidation Loss: 0.3905\n",
            "[Epoch: 5]\tTraining Loss: 0.0931\n",
            "\n"
          ],
          "name": "stdout"
        },
        {
          "output_type": "display_data",
          "data": {
            "image/png": "[encoded data removed]",
            "text/plain": [
              "<Figure size 1152x576 with 1 Axes>"
            ]
          },
          "metadata": {
            "tags": [],
            "needs_background": "light"
          }
        }
      ]
    },
    {
      "cell_type": "markdown",
      "metadata": {
        "id": "w6IV7M6LQhW5",
        "colab_type": "text"
      },
      "source": [
        "### Save the model parameters"
      ]
    },
    {
      "cell_type": "code",
      "metadata": {
        "id": "0JD05FpwQJiZ",
        "colab_type": "code",
        "colab": {}
      },
      "source": [
        "torch.save(slot_filling_net.state_dict(), \"snips_slot_filling_model\")"
      ],
      "execution_count": 0,
      "outputs": []
    },
    {
      "cell_type": "markdown",
      "metadata": {
        "id": "GmMcpK8r0Yz0",
        "colab_type": "text"
      },
      "source": [
        "# Evaluation of the Trained Model"
      ]
    },
    {
      "cell_type": "markdown",
      "metadata": {
        "id": "Sxg9EZfbQuta",
        "colab_type": "text"
      },
      "source": [
        "### Loading the saved model"
      ]
    },
    {
      "cell_type": "code",
      "metadata": {
        "id": "YeYKn1lmQcSz",
        "colab_type": "code",
        "colab": {
          "base_uri": "https://localhost:8080/",
          "height": 34
        },
        "outputId": "2e754d40-7e05-445c-f13e-f7e020bdf29b"
      },
      "source": [
        "slot_filling_net = SlotFillingNetwork(vocab_size, slots_size, embedding_size = 100, hidden_size = 100).to(device)\n",
        "slot_filling_net.load_state_dict(torch.load('snips_slot_filling_model'))"
      ],
      "execution_count": 18,
      "outputs": [
        {
          "output_type": "execute_result",
          "data": {
            "text/plain": [
              "<All keys matched successfully>"
            ]
          },
          "metadata": {
            "tags": []
          },
          "execution_count": 18
        }
      ]
    },
    {
      "cell_type": "markdown",
      "metadata": {
        "id": "Yz6btY3oP_Hr",
        "colab_type": "text"
      },
      "source": [
        "## Manual Evaluation through examples"
      ]
    },
    {
      "cell_type": "code",
      "metadata": {
        "id": "mg3lrblUP-ep",
        "colab_type": "code",
        "colab": {}
      },
      "source": [
        "def predictSlots(sentence, actual_slots):\n",
        "    sent_indices = torch.tensor(indexFromSentence([sentence]), device=device)\n",
        "    sent_len = torch.tensor([sent_indices.shape[1]], device=device)\n",
        "\n",
        "    with torch.no_grad():\n",
        "        hidden = slot_filling_net.initHidden(1)\n",
        "        slot_predicted, hidden = slot_filling_net.forward(sent_indices, sent_len, hidden)\n",
        "        topv, topi = slot_predicted.data.topk(1)\n",
        "        slots_pred = []\n",
        "        example_acc = 0\n",
        "        for i, index in enumerate(topi.squeeze()):\n",
        "            slots_pred.append(indices_to_slots[index.item()])\n",
        "            if indices_to_slots[index.item()] == actual_slots.split()[i]:\n",
        "                example_acc += 1\n",
        "        example_acc = example_acc * 100 / sent_len\n",
        "        \n",
        "    return slots_pred, example_acc\n",
        "\n",
        "def evaluateSentence(sentence, actual_slots):\n",
        "\n",
        "    slots_pred, acc = predictSlots(sentence, actual_slots)\n",
        "    df = pd.DataFrame({\"Word\": sentence.split(), \"Predicted Slot\": slots_pred, \"Actual Slot\": actual_slots.split()})\n",
        "    print(df)\n",
        "    \n",
        "    print(\"\\nAccuracy: %.2f\" % (acc))"
      ],
      "execution_count": 0,
      "outputs": []
    },
    {
      "cell_type": "code",
      "metadata": {
        "id": "IGm0OBIw-lkB",
        "colab_type": "code",
        "colab": {}
      },
      "source": [
        "def loadTestData(seq_in_path, seq_out_path):\n",
        "    with open(seq_in_path, \"r\") as file:\n",
        "        input_sent = file.readlines()\n",
        "    input_sent = addSentenceMarkers(input_sent)\n",
        "\n",
        "    with open(seq_out_path, \"r\") as file:\n",
        "        output_slots = file.readlines()\n",
        "    output_slots = addSentenceMarkers(output_slots)\n",
        "\n",
        "    df = pd.DataFrame({\"sentence\": input_sent, \"slots\": output_slots})\n",
        "    return df"
      ],
      "execution_count": 0,
      "outputs": []
    },
    {
      "cell_type": "code",
      "metadata": {
        "id": "WwzFZo8Z_BQ2",
        "colab_type": "code",
        "outputId": "557108c8-fefe-4317-8cf4-9d925cf97eab",
        "colab": {
          "base_uri": "https://localhost:8080/",
          "height": 195
        }
      },
      "source": [
        "test_df = loadTestData(\"snips/test/seq.in\", \"snips/test/seq.out\")\n",
        "test_df.head()"
      ],
      "execution_count": 21,
      "outputs": [
        {
          "output_type": "execute_result",
          "data": {
            "text/html": [
              "<div>\n",
              "<style scoped>\n",
              "    .dataframe tbody tr th:only-of-type {\n",
              "        vertical-align: middle;\n",
              "    }\n",
              "\n",
              "    .dataframe tbody tr th {\n",
              "        vertical-align: top;\n",
              "    }\n",
              "\n",
              "    .dataframe thead th {\n",
              "        text-align: right;\n",
              "    }\n",
              "</style>\n",
              "<table border=\"1\" class=\"dataframe\">\n",
              "  <thead>\n",
              "    <tr style=\"text-align: right;\">\n",
              "      <th></th>\n",
              "      <th>sentence</th>\n",
              "      <th>slots</th>\n",
              "    </tr>\n",
              "  </thead>\n",
              "  <tbody>\n",
              "    <tr>\n",
              "      <th>0</th>\n",
              "      <td>BOS add sabrina salerno to the grime instrumen...</td>\n",
              "      <td>BOS O B-artist I-artist O O B-playlist I-playl...</td>\n",
              "    </tr>\n",
              "    <tr>\n",
              "      <th>1</th>\n",
              "      <td>BOS i want to bring four people to a place tha...</td>\n",
              "      <td>BOS O O O O B-party_size_number O O O O O O B-...</td>\n",
              "    </tr>\n",
              "    <tr>\n",
              "      <th>2</th>\n",
              "      <td>BOS put lindsey cardinale into my hillary clin...</td>\n",
              "      <td>BOS O B-artist I-artist O B-playlist_owner B-p...</td>\n",
              "    </tr>\n",
              "    <tr>\n",
              "      <th>3</th>\n",
              "      <td>BOS will it snow in mt on june 13  2038\\n EOS</td>\n",
              "      <td>BOS O O B-condition_description O B-state O B-...</td>\n",
              "    </tr>\n",
              "    <tr>\n",
              "      <th>4</th>\n",
              "      <td>BOS play signe anderson chant music that is ne...</td>\n",
              "      <td>BOS O B-artist I-artist B-music_item O O O B-s...</td>\n",
              "    </tr>\n",
              "  </tbody>\n",
              "</table>\n",
              "</div>"
            ],
            "text/plain": [
              "                                            sentence                                              slots\n",
              "0  BOS add sabrina salerno to the grime instrumen...  BOS O B-artist I-artist O O B-playlist I-playl...\n",
              "1  BOS i want to bring four people to a place tha...  BOS O O O O B-party_size_number O O O O O O B-...\n",
              "2  BOS put lindsey cardinale into my hillary clin...  BOS O B-artist I-artist O B-playlist_owner B-p...\n",
              "3      BOS will it snow in mt on june 13  2038\\n EOS  BOS O O B-condition_description O B-state O B-...\n",
              "4  BOS play signe anderson chant music that is ne...  BOS O B-artist I-artist B-music_item O O O B-s..."
            ]
          },
          "metadata": {
            "tags": []
          },
          "execution_count": 21
        }
      ]
    },
    {
      "cell_type": "code",
      "metadata": {
        "id": "uuhPy_oM_Sj5",
        "colab_type": "code",
        "colab": {}
      },
      "source": [
        "def evaluateRandomly(df, num_samples = 5):\n",
        "    sampled = df.sample(num_samples)\n",
        "    for index, row in sampled.iterrows():\n",
        "        evaluateSentence(row[\"sentence\"], row[\"slots\"])\n",
        "        print(\"===============================================================\\n\")"
      ],
      "execution_count": 0,
      "outputs": []
    },
    {
      "cell_type": "code",
      "metadata": {
        "id": "uiyHIWTD6vVq",
        "colab_type": "code",
        "outputId": "3f91e527-fb25-4b15-be27-3f9da3edf90f",
        "colab": {
          "base_uri": "https://localhost:8080/",
          "height": 1000
        }
      },
      "source": [
        "evaluateRandomly(test_df, 5)"
      ],
      "execution_count": 23,
      "outputs": [
        {
          "output_type": "stream",
          "text": [
            "      Word          Predicted Slot             Actual Slot\n",
            "0      BOS                     BOS                     BOS\n",
            "1     what                       O                       O\n",
            "2    films            B-movie_type            B-movie_type\n",
            "3      are                       O                       O\n",
            "4       at                       O                       O\n",
            "5      the                       O                       O\n",
            "6  nearest      B-spatial_relation      B-spatial_relation\n",
            "7   cinema  B-object_location_type  B-object_location_type\n",
            "8      EOS                     EOS                     EOS\n",
            "\n",
            "Accuracy: 100.00\n",
            "===============================================================\n",
            "\n",
            "         Word    Predicted Slot       Actual Slot\n",
            "0         BOS               BOS               BOS\n",
            "1         add                 O                 O\n",
            "2        this                 O                 O\n",
            "3        tune      B-music_item      B-music_item\n",
            "4          to                 O                 O\n",
            "5          my  B-playlist_owner  B-playlist_owner\n",
            "6  dinnertime        B-playlist        B-playlist\n",
            "7   acoustics        I-playlist        I-playlist\n",
            "8        list                 O                 O\n",
            "9         EOS               EOS               EOS\n",
            "\n",
            "Accuracy: 100.00\n",
            "===============================================================\n",
            "\n",
            "       Word Predicted Slot    Actual Slot\n",
            "0       BOS            BOS            BOS\n",
            "1    please              O              O\n",
            "2    search              O              O\n",
            "3       the              O  B-object_name\n",
            "4     young  I-object_name  I-object_name\n",
            "5  warriors  I-object_name  I-object_name\n",
            "6      game  I-object_name  B-object_type\n",
            "7       EOS            EOS            EOS\n",
            "\n",
            "Accuracy: 75.00\n",
            "===============================================================\n",
            "\n",
            "       Word    Predicted Slot       Actual Slot\n",
            "0       BOS               BOS               BOS\n",
            "1       add                 O                 O\n",
            "2    jennie     B-entity_name     B-entity_name\n",
            "3    jennie     I-entity_name     I-entity_name\n",
            "4        to                 O                 O\n",
            "5        my  B-playlist_owner  B-playlist_owner\n",
            "6     metal        B-playlist        B-playlist\n",
            "7  playlist                 O                 O\n",
            "8       EOS               EOS               EOS\n",
            "\n",
            "Accuracy: 100.00\n",
            "===============================================================\n",
            "\n",
            "         Word    Predicted Slot       Actual Slot\n",
            "0         BOS               BOS               BOS\n",
            "1         add                 O                 O\n",
            "2         the                 O                 O\n",
            "3      singer                 O                 O\n",
            "4        ivan          B-artist          B-artist\n",
            "5      roudyk          I-artist          I-artist\n",
            "6          to                 O                 O\n",
            "7          my  B-playlist_owner  B-playlist_owner\n",
            "8       fairy        B-playlist        B-playlist\n",
            "9       tales        I-playlist        I-playlist\n",
            "10  playlists                 O                 O\n",
            "11        EOS               EOS               EOS\n",
            "\n",
            "Accuracy: 100.00\n",
            "===============================================================\n",
            "\n"
          ],
          "name": "stdout"
        }
      ]
    },
    {
      "cell_type": "code",
      "metadata": {
        "id": "vlZc_28tBaqj",
        "colab_type": "code",
        "colab": {}
      },
      "source": [
        "def testModel(test_df):\n",
        "    tot_correct = 0\n",
        "    tot_samples = 0\n",
        "    for index, row in test_df.iterrows():\n",
        "        slots_pred, acc = predictSlots(row[\"sentence\"], row[\"slots\"])\n",
        "        tot_correct += acc/100.0 * len(row[\"sentence\"].split())\n",
        "        tot_samples += len(row[\"sentence\"].split())\n",
        "    \n",
        "    test_acc = tot_correct/tot_samples * 100\n",
        "    print(\"Test Accuracy: {acc:0.2f} %\".format(acc=test_acc.item()))"
      ],
      "execution_count": 0,
      "outputs": []
    },
    {
      "cell_type": "code",
      "metadata": {
        "id": "_SSxizAzcXLD",
        "colab_type": "code",
        "outputId": "aa6d9b1c-71fb-47b7-f78e-245db5338fe2",
        "colab": {
          "base_uri": "https://localhost:8080/",
          "height": 34
        }
      },
      "source": [
        "testModel(test_df)"
      ],
      "execution_count": 25,
      "outputs": [
        {
          "output_type": "stream",
          "text": [
            "Test Accuracy: 90.93 %\n"
          ],
          "name": "stdout"
        }
      ]
    },
    {
      "cell_type": "code",
      "metadata": {
        "id": "cmP3Us4t2Lnl",
        "colab_type": "code",
        "colab": {}
      },
      "source": [
        ""
      ],
      "execution_count": 0,
      "outputs": []
    }
  ]
}